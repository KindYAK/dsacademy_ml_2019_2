{
 "cells": [
  {
   "cell_type": "markdown",
   "metadata": {},
   "source": [
    "# SP LIME\n",
    "\n",
    "## Regression explainer with boston housing prices dataset"
   ]
  },
  {
   "cell_type": "code",
   "execution_count": 1,
   "metadata": {},
   "outputs": [
    {
     "name": "stdout",
     "output_type": "stream",
     "text": [
      ".. _boston_dataset:\n",
      "\n",
      "Boston house prices dataset\n",
      "---------------------------\n",
      "\n",
      "**Data Set Characteristics:**  \n",
      "\n",
      "    :Number of Instances: 506 \n",
      "\n",
      "    :Number of Attributes: 13 numeric/categorical predictive. Median Value (attribute 14) is usually the target.\n",
      "\n",
      "    :Attribute Information (in order):\n",
      "        - CRIM     per capita crime rate by town\n",
      "        - ZN       proportion of residential land zoned for lots over 25,000 sq.ft.\n",
      "        - INDUS    proportion of non-retail business acres per town\n",
      "        - CHAS     Charles River dummy variable (= 1 if tract bounds river; 0 otherwise)\n",
      "        - NOX      nitric oxides concentration (parts per 10 million)\n",
      "        - RM       average number of rooms per dwelling\n",
      "        - AGE      proportion of owner-occupied units built prior to 1940\n",
      "        - DIS      weighted distances to five Boston employment centres\n",
      "        - RAD      index of accessibility to radial highways\n",
      "        - TAX      full-value property-tax rate per $10,000\n",
      "        - PTRATIO  pupil-teacher ratio by town\n",
      "        - B        1000(Bk - 0.63)^2 where Bk is the proportion of blacks by town\n",
      "        - LSTAT    % lower status of the population\n",
      "        - MEDV     Median value of owner-occupied homes in $1000's\n",
      "\n",
      "    :Missing Attribute Values: None\n",
      "\n",
      "    :Creator: Harrison, D. and Rubinfeld, D.L.\n",
      "\n",
      "This is a copy of UCI ML housing dataset.\n",
      "https://archive.ics.uci.edu/ml/machine-learning-databases/housing/\n",
      "\n",
      "\n",
      "This dataset was taken from the StatLib library which is maintained at Carnegie Mellon University.\n",
      "\n",
      "The Boston house-price data of Harrison, D. and Rubinfeld, D.L. 'Hedonic\n",
      "prices and the demand for clean air', J. Environ. Economics & Management,\n",
      "vol.5, 81-102, 1978.   Used in Belsley, Kuh & Welsch, 'Regression diagnostics\n",
      "...', Wiley, 1980.   N.B. Various transformations are used in the table on\n",
      "pages 244-261 of the latter.\n",
      "\n",
      "The Boston house-price data has been used in many machine learning papers that address regression\n",
      "problems.   \n",
      "     \n",
      ".. topic:: References\n",
      "\n",
      "   - Belsley, Kuh & Welsch, 'Regression diagnostics: Identifying Influential Data and Sources of Collinearity', Wiley, 1980. 244-261.\n",
      "   - Quinlan,R. (1993). Combining Instance-Based and Model-Based Learning. In Proceedings on the Tenth International Conference of Machine Learning, 236-243, University of Massachusetts, Amherst. Morgan Kaufmann.\n",
      "\n",
      "Random Forest R^2 Score: 0.881\n",
      "Linear Regression R^2 Score: 0.593\n"
     ]
    }
   ],
   "source": [
    "from sklearn.datasets import load_boston\n",
    "import sklearn.ensemble\n",
    "import sklearn.linear_model\n",
    "import sklearn.model_selection\n",
    "import numpy as np\n",
    "from sklearn.metrics import r2_score\n",
    "np.random.seed(1)\n",
    "\n",
    "#load example dataset\n",
    "boston = load_boston()\n",
    "\n",
    "#print a description of the variables\n",
    "print(boston.DESCR)\n",
    "\n",
    "#train a regressor\n",
    "rf = sklearn.ensemble.RandomForestRegressor(n_estimators=1000)\n",
    "train, test, labels_train, labels_test = sklearn.model_selection.train_test_split(boston.data, boston.target, train_size=0.80, test_size=0.20)\n",
    "rf.fit(train, labels_train);\n",
    "\n",
    "#train a linear regressor\n",
    "lr = sklearn.linear_model.LinearRegression()\n",
    "lr.fit(train,labels_train)\n",
    "\n",
    "#print the R^2 score of the random forest\n",
    "print(\"Random Forest R^2 Score: \" +str(round(r2_score(rf.predict(test),labels_test),3)))\n",
    "print(\"Linear Regression R^2 Score: \" +str(round(r2_score(lr.predict(test),labels_test),3)))"
   ]
  },
  {
   "cell_type": "code",
   "execution_count": 2,
   "metadata": {},
   "outputs": [],
   "source": [
    "# import lime tools\n",
    "import lime\n",
    "import lime.lime_tabular\n",
    "\n",
    "# generate an \"explainer\" object\n",
    "categorical_features  = np.argwhere(np.array([len(set(boston.data[:,x])) for x in range(boston.data.shape[1])]) <= 10).flatten()\n",
    "explainer = lime.lime_tabular.LimeTabularExplainer(train, feature_names=boston.feature_names, class_names=['price'], categorical_features=categorical_features, verbose=False, mode='regression',discretize_continuous=False)"
   ]
  },
  {
   "cell_type": "code",
   "execution_count": 3,
   "metadata": {},
   "outputs": [],
   "source": [
    "#generate an explanation\n",
    "i = 13\n",
    "exp = explainer.explain_instance(test[i], rf.predict, num_features=14)"
   ]
  },
  {
   "cell_type": "code",
   "execution_count": 4,
   "metadata": {},
   "outputs": [
    {
     "data": {
      "image/png": "[encoded data removed]",
      "text/plain": [
       "<Figure size 432x288 with 1 Axes>"
      ]
     },
     "metadata": {
      "needs_background": "light"
     },
     "output_type": "display_data"
    }
   ],
   "source": [
    "%matplotlib inline\n",
    "fig = exp.as_pyplot_figure();"
   ]
  },
  {
   "cell_type": "code",
   "execution_count": 5,
   "metadata": {},
   "outputs": [
    {
     "name": "stdout",
     "output_type": "stream",
     "text": [
      "Input feature names: \n",
      "['CRIM' 'ZN' 'INDUS' 'CHAS' 'NOX' 'RM' 'AGE' 'DIS' 'RAD' 'TAX' 'PTRATIO'\n",
      " 'B' 'LSTAT']\n",
      "\n",
      "\n",
      "Input feature values: \n",
      "[4.3790e-02 8.0000e+01 3.3700e+00 0.0000e+00 3.9800e-01 5.7870e+00\n",
      " 3.1100e+01 6.6115e+00 4.0000e+00 3.3700e+02 1.6100e+01 3.9690e+02\n",
      " 1.0240e+01]\n",
      "\n",
      "\n",
      "Predicted: \n",
      "20.161599999999957\n"
     ]
    }
   ],
   "source": [
    "print(\"Input feature names: \")\n",
    "print(boston.feature_names)\n",
    "print('\\n')\n",
    "\n",
    "print(\"Input feature values: \")\n",
    "print(test[i])\n",
    "print('\\n')\n",
    "\n",
    "print(\"Predicted: \")\n",
    "print(rf.predict(test)[i])"
   ]
  },
  {
   "cell_type": "markdown",
   "metadata": {},
   "source": [
    "# SP-LIME pick step\n",
    "\n",
    "### Maximize the 'coverage' function:\n",
    "\n",
    "$c(V,W,I) = \\sum_{j=1}^{d^{\\prime}}{\\mathbb{1}_{[\\exists i \\in V : W_{ij}>0]}I_j}$\n",
    "\n",
    "$W = \\text{Explanation Matrix,  } n\\times d^{\\prime}$\n",
    "\n",
    "$V = \\text{Set of chosen explanations}$\n",
    "\n",
    "$I = \\text{Global feature importance vector,   } I_j = \\sqrt{\\sum_i{|W_{ij}|}}$"
   ]
  },
  {
   "cell_type": "code",
   "execution_count": 6,
   "metadata": {},
   "outputs": [],
   "source": [
    "import lime"
   ]
  },
  {
   "cell_type": "code",
   "execution_count": 7,
   "metadata": {},
   "outputs": [],
   "source": [
    "import warnings\n",
    "from lime import submodular_pick\n",
    "sp_obj = submodular_pick.SubmodularPick(explainer, train, rf.predict, sample_size=20, num_features=14, num_exps_desired=5)"
   ]
  },
  {
   "cell_type": "code",
   "execution_count": 8,
   "metadata": {},
   "outputs": [
    {
     "data": {
      "image/png": "[encoded data removed]",
      "text/plain": [
       "<Figure size 432x288 with 1 Axes>"
      ]
     },
     "metadata": {
      "needs_background": "light"
     },
     "output_type": "display_data"
    },
    {
     "data": {
      "image/png": "[encoded data removed]",
      "text/plain": [
       "<Figure size 432x288 with 1 Axes>"
      ]
     },
     "metadata": {
      "needs_background": "light"
     },
     "output_type": "display_data"
    },
    {
     "data": {
      "image/png": "[encoded data removed]",
      "text/plain": [
       "<Figure size 432x288 with 1 Axes>"
      ]
     },
     "metadata": {
      "needs_background": "light"
     },
     "output_type": "display_data"
    },
    {
     "data": {
      "image/png": "[encoded data removed]",
      "text/plain": [
       "<Figure size 432x288 with 1 Axes>"
      ]
     },
     "metadata": {
      "needs_background": "light"
     },
     "output_type": "display_data"
    },
    {
     "data": {
      "image/png": "[encoded data removed]",
      "text/plain": [
       "<Figure size 432x288 with 1 Axes>"
      ]
     },
     "metadata": {
      "needs_background": "light"
     },
     "output_type": "display_data"
    }
   ],
   "source": [
    "[exp.as_pyplot_figure() for exp in sp_obj.sp_explanations];"
   ]
  },
  {
   "cell_type": "code",
   "execution_count": 9,
   "metadata": {},
   "outputs": [],
   "source": [
    "import pandas as pd\n",
    "W=pd.DataFrame([dict(this.as_list()) for this in sp_obj.explanations])"
   ]
  },
  {
   "cell_type": "code",
   "execution_count": 10,
   "metadata": {},
   "outputs": [
    {
     "data": {
      "text/html": [
       "<div>\n",
       "<style scoped>\n",
       "    .dataframe tbody tr th:only-of-type {\n",
       "        vertical-align: middle;\n",
       "    }\n",
       "\n",
       "    .dataframe tbody tr th {\n",
       "        vertical-align: top;\n",
       "    }\n",
       "\n",
       "    .dataframe thead th {\n",
       "        text-align: right;\n",
       "    }\n",
       "</style>\n",
       "<table border=\"1\" class=\"dataframe\">\n",
       "  <thead>\n",
       "    <tr style=\"text-align: right;\">\n",
       "      <th></th>\n",
       "      <th>AGE</th>\n",
       "      <th>B</th>\n",
       "      <th>CHAS=0</th>\n",
       "      <th>CHAS=1</th>\n",
       "      <th>CRIM</th>\n",
       "      <th>DIS</th>\n",
       "      <th>INDUS</th>\n",
       "      <th>LSTAT</th>\n",
       "      <th>NOX</th>\n",
       "      <th>PTRATIO</th>\n",
       "      <th>RAD=2</th>\n",
       "      <th>RAD=24</th>\n",
       "      <th>RAD=3</th>\n",
       "      <th>RAD=4</th>\n",
       "      <th>RAD=5</th>\n",
       "      <th>RAD=7</th>\n",
       "      <th>RM</th>\n",
       "      <th>TAX</th>\n",
       "      <th>ZN</th>\n",
       "    </tr>\n",
       "  </thead>\n",
       "  <tbody>\n",
       "    <tr>\n",
       "      <th>0</th>\n",
       "      <td>-0.053728</td>\n",
       "      <td>-0.004637</td>\n",
       "      <td>NaN</td>\n",
       "      <td>0.24686</td>\n",
       "      <td>0.077156</td>\n",
       "      <td>-1.679754</td>\n",
       "      <td>-0.192611</td>\n",
       "      <td>-4.936540</td>\n",
       "      <td>-0.343378</td>\n",
       "      <td>-0.320559</td>\n",
       "      <td>NaN</td>\n",
       "      <td>0.066450</td>\n",
       "      <td>NaN</td>\n",
       "      <td>NaN</td>\n",
       "      <td>NaN</td>\n",
       "      <td>NaN</td>\n",
       "      <td>1.697873</td>\n",
       "      <td>-0.123928</td>\n",
       "      <td>-0.040934</td>\n",
       "    </tr>\n",
       "    <tr>\n",
       "      <th>1</th>\n",
       "      <td>-0.119059</td>\n",
       "      <td>0.053741</td>\n",
       "      <td>-0.083707</td>\n",
       "      <td>NaN</td>\n",
       "      <td>0.094069</td>\n",
       "      <td>-1.522723</td>\n",
       "      <td>-0.238300</td>\n",
       "      <td>-4.739967</td>\n",
       "      <td>-0.207060</td>\n",
       "      <td>-0.515959</td>\n",
       "      <td>-0.068962</td>\n",
       "      <td>NaN</td>\n",
       "      <td>NaN</td>\n",
       "      <td>NaN</td>\n",
       "      <td>NaN</td>\n",
       "      <td>NaN</td>\n",
       "      <td>2.039338</td>\n",
       "      <td>-0.324973</td>\n",
       "      <td>0.090418</td>\n",
       "    </tr>\n",
       "    <tr>\n",
       "      <th>2</th>\n",
       "      <td>-0.177080</td>\n",
       "      <td>0.044980</td>\n",
       "      <td>0.049997</td>\n",
       "      <td>NaN</td>\n",
       "      <td>0.003418</td>\n",
       "      <td>-1.448445</td>\n",
       "      <td>-0.114454</td>\n",
       "      <td>-4.993816</td>\n",
       "      <td>-0.493143</td>\n",
       "      <td>-0.312619</td>\n",
       "      <td>NaN</td>\n",
       "      <td>0.140832</td>\n",
       "      <td>NaN</td>\n",
       "      <td>NaN</td>\n",
       "      <td>NaN</td>\n",
       "      <td>NaN</td>\n",
       "      <td>1.393664</td>\n",
       "      <td>-0.147695</td>\n",
       "      <td>0.055998</td>\n",
       "    </tr>\n",
       "    <tr>\n",
       "      <th>3</th>\n",
       "      <td>-0.177237</td>\n",
       "      <td>0.027672</td>\n",
       "      <td>0.025551</td>\n",
       "      <td>NaN</td>\n",
       "      <td>0.221582</td>\n",
       "      <td>-1.136512</td>\n",
       "      <td>-0.117158</td>\n",
       "      <td>-4.401605</td>\n",
       "      <td>-0.175595</td>\n",
       "      <td>-0.410286</td>\n",
       "      <td>NaN</td>\n",
       "      <td>NaN</td>\n",
       "      <td>NaN</td>\n",
       "      <td>0.020023</td>\n",
       "      <td>NaN</td>\n",
       "      <td>NaN</td>\n",
       "      <td>2.044411</td>\n",
       "      <td>-0.292520</td>\n",
       "      <td>-0.030454</td>\n",
       "    </tr>\n",
       "    <tr>\n",
       "      <th>4</th>\n",
       "      <td>-0.111699</td>\n",
       "      <td>0.096809</td>\n",
       "      <td>-0.293248</td>\n",
       "      <td>NaN</td>\n",
       "      <td>0.281645</td>\n",
       "      <td>-1.604062</td>\n",
       "      <td>-0.154101</td>\n",
       "      <td>-4.789939</td>\n",
       "      <td>-0.244761</td>\n",
       "      <td>-0.398450</td>\n",
       "      <td>NaN</td>\n",
       "      <td>NaN</td>\n",
       "      <td>NaN</td>\n",
       "      <td>-0.008414</td>\n",
       "      <td>NaN</td>\n",
       "      <td>NaN</td>\n",
       "      <td>1.942184</td>\n",
       "      <td>-0.360995</td>\n",
       "      <td>0.017630</td>\n",
       "    </tr>\n",
       "  </tbody>\n",
       "</table>\n",
       "</div>"
      ],
      "text/plain": [
       "        AGE         B    CHAS=0   CHAS=1      CRIM       DIS     INDUS  \\\n",
       "0 -0.053728 -0.004637       NaN  0.24686  0.077156 -1.679754 -0.192611   \n",
       "1 -0.119059  0.053741 -0.083707      NaN  0.094069 -1.522723 -0.238300   \n",
       "2 -0.177080  0.044980  0.049997      NaN  0.003418 -1.448445 -0.114454   \n",
       "3 -0.177237  0.027672  0.025551      NaN  0.221582 -1.136512 -0.117158   \n",
       "4 -0.111699  0.096809 -0.293248      NaN  0.281645 -1.604062 -0.154101   \n",
       "\n",
       "      LSTAT       NOX   PTRATIO     RAD=2    RAD=24  RAD=3     RAD=4  RAD=5  \\\n",
       "0 -4.936540 -0.343378 -0.320559       NaN  0.066450    NaN       NaN    NaN   \n",
       "1 -4.739967 -0.207060 -0.515959 -0.068962       NaN    NaN       NaN    NaN   \n",
       "2 -4.993816 -0.493143 -0.312619       NaN  0.140832    NaN       NaN    NaN   \n",
       "3 -4.401605 -0.175595 -0.410286       NaN       NaN    NaN  0.020023    NaN   \n",
       "4 -4.789939 -0.244761 -0.398450       NaN       NaN    NaN -0.008414    NaN   \n",
       "\n",
       "   RAD=7        RM       TAX        ZN  \n",
       "0    NaN  1.697873 -0.123928 -0.040934  \n",
       "1    NaN  2.039338 -0.324973  0.090418  \n",
       "2    NaN  1.393664 -0.147695  0.055998  \n",
       "3    NaN  2.044411 -0.292520 -0.030454  \n",
       "4    NaN  1.942184 -0.360995  0.017630  "
      ]
     },
     "execution_count": 10,
     "metadata": {},
     "output_type": "execute_result"
    }
   ],
   "source": [
    "W.head()"
   ]
  },
  {
   "cell_type": "code",
   "execution_count": 11,
   "metadata": {
    "scrolled": true
   },
   "outputs": [
    {
     "data": {
      "image/png": "[encoded data removed]",
      "text/plain": [
       "<Figure size 432x288 with 1 Axes>"
      ]
     },
     "metadata": {
      "needs_background": "light"
     },
     "output_type": "display_data"
    }
   ],
   "source": [
    "im=W.hist('NOX',bins=20)"
   ]
  },
  {
   "cell_type": "markdown",
   "metadata": {},
   "source": [
    "## Text explainer using the newsgroups"
   ]
  },
  {
   "cell_type": "code",
   "execution_count": 13,
   "metadata": {},
   "outputs": [
    {
     "name": "stderr",
     "output_type": "stream",
     "text": [
      "Downloading 20news dataset. This may take a few minutes.\n",
      "Downloading dataset from https://ndownloader.figshare.com/files/5975967 (14 MB)\n",
      "C:\\Users\\KindYAK\\Anaconda3\\envs\\def\\lib\\re.py:212: FutureWarning: split() requires a non-empty pattern match.\n",
      "  return _compile(pattern, flags).split(string, maxsplit)\n"
     ]
    },
    {
     "name": "stdout",
     "output_type": "stream",
     "text": [
      "Document id: 83\n",
      "Probability(christian) = 0.444\n",
      "True class: atheism\n"
     ]
    }
   ],
   "source": [
    "# run the text explainer example notebook, up to single explanation\n",
    "import sklearn\n",
    "import numpy as np\n",
    "import sklearn\n",
    "import sklearn.ensemble\n",
    "import sklearn.metrics\n",
    "# from __future__ import print_function\n",
    "\n",
    "from sklearn.datasets import fetch_20newsgroups\n",
    "categories = ['alt.atheism', 'soc.religion.christian']\n",
    "newsgroups_train = fetch_20newsgroups(subset='train', categories=categories)\n",
    "newsgroups_test = fetch_20newsgroups(subset='test', categories=categories)\n",
    "class_names = ['atheism', 'christian']\n",
    "\n",
    "vectorizer = sklearn.feature_extraction.text.TfidfVectorizer(lowercase=False)\n",
    "train_vectors = vectorizer.fit_transform(newsgroups_train.data)\n",
    "test_vectors = vectorizer.transform(newsgroups_test.data)\n",
    "\n",
    "rf = sklearn.ensemble.RandomForestClassifier(n_estimators=500)\n",
    "rf.fit(train_vectors, newsgroups_train.target)\n",
    "\n",
    "pred = rf.predict(test_vectors)\n",
    "sklearn.metrics.f1_score(newsgroups_test.target, pred, average='binary')\n",
    "\n",
    "from lime import lime_text\n",
    "from sklearn.pipeline import make_pipeline\n",
    "c = make_pipeline(vectorizer, rf)\n",
    "\n",
    "from lime.lime_text import LimeTextExplainer\n",
    "explainer = LimeTextExplainer(class_names=class_names)\n",
    "\n",
    "idx = 83\n",
    "exp = explainer.explain_instance(newsgroups_test.data[idx], c.predict_proba, num_features=6)\n",
    "print('Document id: %d' % idx)\n",
    "print('Probability(christian) =', c.predict_proba([newsgroups_test.data[idx]])[0,1])\n",
    "print('True class: %s' % class_names[newsgroups_test.target[idx]])"
   ]
  },
  {
   "cell_type": "code",
   "execution_count": 14,
   "metadata": {},
   "outputs": [
    {
     "name": "stderr",
     "output_type": "stream",
     "text": [
      "C:\\Users\\KindYAK\\Anaconda3\\envs\\def\\lib\\re.py:212: FutureWarning: split() requires a non-empty pattern match.\n",
      "  return _compile(pattern, flags).split(string, maxsplit)\n",
      "C:\\Users\\KindYAK\\Anaconda3\\envs\\def\\lib\\re.py:212: FutureWarning: split() requires a non-empty pattern match.\n",
      "  return _compile(pattern, flags).split(string, maxsplit)\n"
     ]
    }
   ],
   "source": [
    "sp_obj = submodular_pick.SubmodularPick(explainer, newsgroups_test.data, c.predict_proba, sample_size=2, num_features=6,num_exps_desired=2)"
   ]
  },
  {
   "cell_type": "code",
   "execution_count": 15,
   "metadata": {},
   "outputs": [
    {
     "data": {
      "image/png": "[encoded data removed]",
      "text/plain": [
       "<Figure size 432x288 with 1 Axes>"
      ]
     },
     "metadata": {
      "needs_background": "light"
     },
     "output_type": "display_data"
    },
    {
     "data": {
      "image/png": "[encoded data removed]",
      "text/plain": [
       "<Figure size 432x288 with 1 Axes>"
      ]
     },
     "metadata": {
      "needs_background": "light"
     },
     "output_type": "display_data"
    }
   ],
   "source": [
    "[exp.as_pyplot_figure(label=exp.available_labels()[0]) for exp in sp_obj.sp_explanations];"
   ]
  },
  {
   "cell_type": "code",
   "execution_count": 16,
   "metadata": {},
   "outputs": [
    {
     "name": "stderr",
     "output_type": "stream",
     "text": [
      "C:\\Users\\KindYAK\\Anaconda3\\envs\\def\\lib\\site-packages\\sklearn\\ensemble\\forest.py:245: FutureWarning: The default value of n_estimators will change from 10 in version 0.20 to 100 in 0.22.\n",
      "  \"10 in version 0.20 to 100 in 0.22.\", FutureWarning)\n"
     ]
    },
    {
     "data": {
      "text/plain": [
       "0.8333333333333334"
      ]
     },
     "execution_count": 16,
     "metadata": {},
     "output_type": "execute_result"
    }
   ],
   "source": [
    "from sklearn.datasets import load_iris\n",
    "iris=load_iris()\n",
    "from sklearn.model_selection import train_test_split as tts\n",
    "Xtrain,Xtest,ytrain,ytest=tts(iris.data,iris.target,test_size=.2)\n",
    "from sklearn.ensemble import RandomForestClassifier\n",
    "rf=RandomForestClassifier()\n",
    "rf.fit(Xtrain,ytrain)\n",
    "rf.score(Xtest,ytest)"
   ]
  },
  {
   "cell_type": "code",
   "execution_count": 17,
   "metadata": {},
   "outputs": [],
   "source": [
    "explainer = lime.lime_tabular.LimeTabularExplainer(Xtrain, \n",
    "                                                   feature_names=iris.feature_names,\n",
    "                                                   class_names=iris.target_names, \n",
    "                                                   verbose=False, \n",
    "                                                   mode='classification',\n",
    "                                                   discretize_continuous=False)"
   ]
  },
  {
   "cell_type": "code",
   "execution_count": 18,
   "metadata": {},
   "outputs": [
    {
     "data": {
      "text/plain": [
       "[1, 2, 0]"
      ]
     },
     "execution_count": 18,
     "metadata": {},
     "output_type": "execute_result"
    }
   ],
   "source": [
    "exp=explainer.explain_instance(Xtrain[i],rf.predict_proba,top_labels=3)\n",
    "exp.available_labels()"
   ]
  },
  {
   "cell_type": "code",
   "execution_count": 19,
   "metadata": {},
   "outputs": [],
   "source": [
    "sp_obj = submodular_pick.SubmodularPick(data=Xtrain,explainer=explainer,num_exps_desired=5,predict_fn=rf.predict_proba, sample_size=20, num_features=4, top_labels=3)"
   ]
  },
  {
   "cell_type": "code",
   "execution_count": 20,
   "metadata": {},
   "outputs": [
    {
     "data": {
      "text/html": [
       "<div>\n",
       "<style scoped>\n",
       "    .dataframe tbody tr th:only-of-type {\n",
       "        vertical-align: middle;\n",
       "    }\n",
       "\n",
       "    .dataframe tbody tr th {\n",
       "        vertical-align: top;\n",
       "    }\n",
       "\n",
       "    .dataframe thead th {\n",
       "        text-align: right;\n",
       "    }\n",
       "</style>\n",
       "<table border=\"1\" class=\"dataframe\">\n",
       "  <thead>\n",
       "    <tr style=\"text-align: right;\">\n",
       "      <th></th>\n",
       "      <th>exp number</th>\n",
       "      <th>petal length (cm)</th>\n",
       "      <th>petal width (cm)</th>\n",
       "      <th>sepal length (cm)</th>\n",
       "      <th>sepal width (cm)</th>\n",
       "    </tr>\n",
       "  </thead>\n",
       "  <tbody>\n",
       "    <tr>\n",
       "      <th>setosa</th>\n",
       "      <td>0</td>\n",
       "      <td>-0.082272</td>\n",
       "      <td>-0.236448</td>\n",
       "      <td>-0.032556</td>\n",
       "      <td>0.012131</td>\n",
       "    </tr>\n",
       "    <tr>\n",
       "      <th>setosa</th>\n",
       "      <td>1</td>\n",
       "      <td>-0.090175</td>\n",
       "      <td>-0.260434</td>\n",
       "      <td>-0.025845</td>\n",
       "      <td>0.012406</td>\n",
       "    </tr>\n",
       "    <tr>\n",
       "      <th>setosa</th>\n",
       "      <td>2</td>\n",
       "      <td>-0.061711</td>\n",
       "      <td>-0.202679</td>\n",
       "      <td>-0.033003</td>\n",
       "      <td>0.007785</td>\n",
       "    </tr>\n",
       "    <tr>\n",
       "      <th>setosa</th>\n",
       "      <td>3</td>\n",
       "      <td>-0.115685</td>\n",
       "      <td>-0.325806</td>\n",
       "      <td>-0.044110</td>\n",
       "      <td>0.021643</td>\n",
       "    </tr>\n",
       "    <tr>\n",
       "      <th>setosa</th>\n",
       "      <td>4</td>\n",
       "      <td>-0.107830</td>\n",
       "      <td>-0.319197</td>\n",
       "      <td>-0.043811</td>\n",
       "      <td>0.014567</td>\n",
       "    </tr>\n",
       "    <tr>\n",
       "      <th>versicolor</th>\n",
       "      <td>0</td>\n",
       "      <td>-0.180392</td>\n",
       "      <td>0.073952</td>\n",
       "      <td>0.047830</td>\n",
       "      <td>-0.000763</td>\n",
       "    </tr>\n",
       "    <tr>\n",
       "      <th>versicolor</th>\n",
       "      <td>1</td>\n",
       "      <td>-0.130908</td>\n",
       "      <td>0.108060</td>\n",
       "      <td>0.049730</td>\n",
       "      <td>-0.013007</td>\n",
       "    </tr>\n",
       "    <tr>\n",
       "      <th>versicolor</th>\n",
       "      <td>2</td>\n",
       "      <td>-0.224816</td>\n",
       "      <td>0.034924</td>\n",
       "      <td>0.027891</td>\n",
       "      <td>-0.009576</td>\n",
       "    </tr>\n",
       "    <tr>\n",
       "      <th>versicolor</th>\n",
       "      <td>3</td>\n",
       "      <td>-0.010185</td>\n",
       "      <td>0.215655</td>\n",
       "      <td>0.086229</td>\n",
       "      <td>-0.021263</td>\n",
       "    </tr>\n",
       "    <tr>\n",
       "      <th>versicolor</th>\n",
       "      <td>4</td>\n",
       "      <td>-0.032785</td>\n",
       "      <td>0.207374</td>\n",
       "      <td>0.081957</td>\n",
       "      <td>-0.020449</td>\n",
       "    </tr>\n",
       "    <tr>\n",
       "      <th>virginica</th>\n",
       "      <td>0</td>\n",
       "      <td>0.262664</td>\n",
       "      <td>0.162496</td>\n",
       "      <td>-0.015273</td>\n",
       "      <td>-0.011368</td>\n",
       "    </tr>\n",
       "    <tr>\n",
       "      <th>virginica</th>\n",
       "      <td>1</td>\n",
       "      <td>0.221083</td>\n",
       "      <td>0.152374</td>\n",
       "      <td>-0.023885</td>\n",
       "      <td>0.000601</td>\n",
       "    </tr>\n",
       "    <tr>\n",
       "      <th>virginica</th>\n",
       "      <td>2</td>\n",
       "      <td>0.286528</td>\n",
       "      <td>0.167755</td>\n",
       "      <td>0.005113</td>\n",
       "      <td>0.001791</td>\n",
       "    </tr>\n",
       "    <tr>\n",
       "      <th>virginica</th>\n",
       "      <td>3</td>\n",
       "      <td>0.125870</td>\n",
       "      <td>0.110151</td>\n",
       "      <td>-0.042118</td>\n",
       "      <td>-0.000380</td>\n",
       "    </tr>\n",
       "    <tr>\n",
       "      <th>virginica</th>\n",
       "      <td>4</td>\n",
       "      <td>0.140615</td>\n",
       "      <td>0.111823</td>\n",
       "      <td>-0.038146</td>\n",
       "      <td>0.005882</td>\n",
       "    </tr>\n",
       "  </tbody>\n",
       "</table>\n",
       "</div>"
      ],
      "text/plain": [
       "            exp number  petal length (cm)  petal width (cm)  \\\n",
       "setosa               0          -0.082272         -0.236448   \n",
       "setosa               1          -0.090175         -0.260434   \n",
       "setosa               2          -0.061711         -0.202679   \n",
       "setosa               3          -0.115685         -0.325806   \n",
       "setosa               4          -0.107830         -0.319197   \n",
       "versicolor           0          -0.180392          0.073952   \n",
       "versicolor           1          -0.130908          0.108060   \n",
       "versicolor           2          -0.224816          0.034924   \n",
       "versicolor           3          -0.010185          0.215655   \n",
       "versicolor           4          -0.032785          0.207374   \n",
       "virginica            0           0.262664          0.162496   \n",
       "virginica            1           0.221083          0.152374   \n",
       "virginica            2           0.286528          0.167755   \n",
       "virginica            3           0.125870          0.110151   \n",
       "virginica            4           0.140615          0.111823   \n",
       "\n",
       "            sepal length (cm)  sepal width (cm)  \n",
       "setosa              -0.032556          0.012131  \n",
       "setosa              -0.025845          0.012406  \n",
       "setosa              -0.033003          0.007785  \n",
       "setosa              -0.044110          0.021643  \n",
       "setosa              -0.043811          0.014567  \n",
       "versicolor           0.047830         -0.000763  \n",
       "versicolor           0.049730         -0.013007  \n",
       "versicolor           0.027891         -0.009576  \n",
       "versicolor           0.086229         -0.021263  \n",
       "versicolor           0.081957         -0.020449  \n",
       "virginica           -0.015273         -0.011368  \n",
       "virginica           -0.023885          0.000601  \n",
       "virginica            0.005113          0.001791  \n",
       "virginica           -0.042118         -0.000380  \n",
       "virginica           -0.038146          0.005882  "
      ]
     },
     "execution_count": 20,
     "metadata": {},
     "output_type": "execute_result"
    }
   ],
   "source": [
    "import pandas as pd\n",
    "df=pd.DataFrame({})\n",
    "for this_label in range(3):\n",
    "    dfl=[]\n",
    "    for i,exp in enumerate(sp_obj.sp_explanations):\n",
    "        l=exp.as_list(label=this_label)\n",
    "        l.append((\"exp number\",i))\n",
    "        dfl.append(dict(l))\n",
    "    dftest=pd.DataFrame(dfl)\n",
    "    df=df.append(pd.DataFrame(dfl,index=[iris.target_names[this_label] for i in range(len(sp_obj.sp_explanations))]))\n",
    "df"
   ]
  },
  {
   "cell_type": "code",
   "execution_count": null,
   "metadata": {},
   "outputs": [],
   "source": []
  },
  {
   "cell_type": "code",
   "execution_count": null,
   "metadata": {},
   "outputs": [],
   "source": []
  },
  {
   "cell_type": "code",
   "execution_count": null,
   "metadata": {},
   "outputs": [],
   "source": []
  },
  {
   "cell_type": "code",
   "execution_count": null,
   "metadata": {},
   "outputs": [],
   "source": []
  }
 ],
 "metadata": {
  "anaconda-cloud": {},
  "kernelspec": {
   "display_name": "Python 3",
   "language": "python",
   "name": "python3"
  },
  "language_info": {
   "codemirror_mode": {
    "name": "ipython",
    "version": 3
   },
   "file_extension": ".py",
   "mimetype": "text/x-python",
   "name": "python",
   "nbconvert_exporter": "python",
   "pygments_lexer": "ipython3",
   "version": "3.6.7"
  }
 },
 "nbformat": 4,
 "nbformat_minor": 2
}
