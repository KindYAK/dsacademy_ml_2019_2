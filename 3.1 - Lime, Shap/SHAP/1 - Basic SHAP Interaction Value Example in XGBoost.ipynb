{
 "cells": [
  {
   "cell_type": "markdown",
   "metadata": {},
   "source": [
    "# Basic SHAP Interaction Value Example in XGBoost\n",
    "\n",
    "This notebook shows how the SHAP interaction values for a very simple function are computed. We start with a simple linear function, and then add an interaction term to see how it changes the SHAP values and the SHAP interaction values."
   ]
  },
  {
   "cell_type": "code",
   "execution_count": 1,
   "metadata": {},
   "outputs": [],
   "source": [
    "import xgboost\n",
    "import numpy as np\n",
    "import shap"
   ]
  },
  {
   "cell_type": "markdown",
   "metadata": {},
   "source": [
    "## Explain a linear function with no interactions"
   ]
  },
  {
   "cell_type": "code",
   "execution_count": 2,
   "metadata": {},
   "outputs": [],
   "source": [
    "# simulate some binary data and a linear outcome with an interaction term\n",
    "# note we make the features in X perfectly independent of each other to make\n",
    "# it easy to solve for the exact SHAP values\n",
    "N = 2000\n",
    "X = np.zeros((N,5))\n",
    "X[:1000,0] = 1\n",
    "X[:500,1] = 1\n",
    "X[1000:1500,1] = 1\n",
    "X[:250,2] = 1\n",
    "X[500:750,2] = 1\n",
    "X[1000:1250,2] = 1\n",
    "X[1500:1750,2] = 1\n",
    "X[:,0:3] -= 0.5\n",
    "y = 2*X[:,0] - 3*X[:,1]"
   ]
  },
  {
   "cell_type": "code",
   "execution_count": 3,
   "metadata": {},
   "outputs": [
    {
     "data": {
      "text/plain": [
       "array([[0.25012506, 0.        , 0.        , 0.        , 0.        ],\n",
       "       [0.        , 0.25012506, 0.        , 0.        , 0.        ],\n",
       "       [0.        , 0.        , 0.25012506, 0.        , 0.        ],\n",
       "       [0.        , 0.        , 0.        , 0.        , 0.        ],\n",
       "       [0.        , 0.        , 0.        , 0.        , 0.        ]])"
      ]
     },
     "execution_count": 3,
     "metadata": {},
     "output_type": "execute_result"
    }
   ],
   "source": [
    "# ensure the variables are independent\n",
    "np.cov(X.T)"
   ]
  },
  {
   "cell_type": "code",
   "execution_count": 4,
   "metadata": {},
   "outputs": [
    {
     "data": {
      "text/plain": [
       "array([0., 0., 0., 0., 0.])"
      ]
     },
     "execution_count": 4,
     "metadata": {},
     "output_type": "execute_result"
    }
   ],
   "source": [
    "# and mean centered\n",
    "X.mean(0)"
   ]
  },
  {
   "cell_type": "code",
   "execution_count": 5,
   "metadata": {},
   "outputs": [
    {
     "name": "stdout",
     "output_type": "stream",
     "text": [
      "[19:07:44] src/tree/updater_prune.cc:74: tree pruning end, 1 roots, 6 extra nodes, 0 pruned nodes, max_depth=2\n",
      "Model error = 0.0\n",
      "0:[f1<0] yes=1,no=2,missing=1,gain=4500,cover=2000\n",
      "\t1:[f0<0] yes=3,no=4,missing=3,gain=1000,cover=1000\n",
      "\t\t3:leaf=0.5,cover=500\n",
      "\t\t4:leaf=2.5,cover=500\n",
      "\t2:[f0<0] yes=5,no=6,missing=5,gain=1000,cover=1000\n",
      "\t\t5:leaf=-2.5,cover=500\n",
      "\t\t6:leaf=-0.5,cover=500\n",
      "\n"
     ]
    }
   ],
   "source": [
    "# train a model with single tree\n",
    "Xd = xgboost.DMatrix(X, label=y)\n",
    "model = xgboost.train({\n",
    "    'eta':1, 'max_depth':3, 'base_score': 0, \"lambda\": 0\n",
    "}, Xd, 1)\n",
    "print(\"Model error =\", np.linalg.norm(y-model.predict(Xd)))\n",
    "print(model.get_dump(with_stats=True)[0])"
   ]
  },
  {
   "cell_type": "code",
   "execution_count": 6,
   "metadata": {},
   "outputs": [
    {
     "data": {
      "text/plain": [
       "0.0"
      ]
     },
     "execution_count": 6,
     "metadata": {},
     "output_type": "execute_result"
    }
   ],
   "source": [
    "# make sure the SHAP values add up to marginal predictions\n",
    "pred = model.predict(Xd, output_margin=True)\n",
    "explainer = shap.TreeExplainer(model)\n",
    "shap_values = explainer.shap_values(Xd)\n",
    "np.abs(shap_values.sum(1) + explainer.expected_value - pred).max()"
   ]
  },
  {
   "cell_type": "markdown",
   "metadata": {},
   "source": [
    "If we build a summary plot we see that only features 1 and 2 have any effect, and that their effects only have two possible magnitudes (one for -0.5 and for 0.5)."
   ]
  },
  {
   "cell_type": "code",
   "execution_count": 7,
   "metadata": {},
   "outputs": [
    {
     "data": {
      "image/png": "[encoded data removed]",
      "text/plain": [
       "<Figure size 576x252 with 2 Axes>"
      ]
     },
     "metadata": {
      "needs_background": "light"
     },
     "output_type": "display_data"
    }
   ],
   "source": [
    "shap.summary_plot(shap_values, X)"
   ]
  },
  {
   "cell_type": "code",
   "execution_count": 8,
   "metadata": {},
   "outputs": [
    {
     "data": {
      "text/plain": [
       "array([ 2., -3.,  0.,  0.,  0.])"
      ]
     },
     "execution_count": 8,
     "metadata": {},
     "output_type": "execute_result"
    }
   ],
   "source": [
    "# train a linear model\n",
    "from sklearn import linear_model\n",
    "lr = linear_model.LinearRegression()\n",
    "lr.fit(X, y)\n",
    "lr_pred = lr.predict(X)\n",
    "lr.coef_.round(2)"
   ]
  },
  {
   "cell_type": "code",
   "execution_count": 9,
   "metadata": {},
   "outputs": [
    {
     "data": {
      "text/plain": [
       "3.4697834078323924e-13"
      ]
     },
     "execution_count": 9,
     "metadata": {},
     "output_type": "execute_result"
    }
   ],
   "source": [
    "# Make sure the computed SHAP values match the true SHAP values\n",
    "# (we can compute the true SHAP values directly for this simple case)\n",
    "main_effect_shap_values = lr.coef_ * (X - X.mean(0))\n",
    "np.linalg.norm(shap_values - main_effect_shap_values)"
   ]
  },
  {
   "cell_type": "markdown",
   "metadata": {},
   "source": [
    "### SHAP Interaction Values\n",
    "\n",
    "Note that when there are no interactions present the SHAP interaction values are just a diagonal matrix with the SHAP values on the diagonal."
   ]
  },
  {
   "cell_type": "code",
   "execution_count": 10,
   "metadata": {},
   "outputs": [
    {
     "data": {
      "text/plain": [
       "array([[ 1. ,  0. ,  0. ,  0. ,  0. ],\n",
       "       [ 0. , -1.5,  0. ,  0. ,  0. ],\n",
       "       [ 0. ,  0. ,  0. ,  0. ,  0. ],\n",
       "       [ 0. ,  0. ,  0. ,  0. ,  0. ],\n",
       "       [ 0. ,  0. ,  0. ,  0. ,  0. ]], dtype=float32)"
      ]
     },
     "execution_count": 10,
     "metadata": {},
     "output_type": "execute_result"
    }
   ],
   "source": [
    "shap_interaction_values = explainer.shap_interaction_values(Xd)\n",
    "shap_interaction_values[0]"
   ]
  },
  {
   "cell_type": "code",
   "execution_count": 11,
   "metadata": {},
   "outputs": [
    {
     "data": {
      "text/plain": [
       "0.0"
      ]
     },
     "execution_count": 11,
     "metadata": {},
     "output_type": "execute_result"
    }
   ],
   "source": [
    "# ensure the SHAP interaction values sum to the marginal predictions\n",
    "np.abs(shap_interaction_values.sum((1,2)) + explainer.expected_value - pred).max()"
   ]
  },
  {
   "cell_type": "code",
   "execution_count": 12,
   "metadata": {},
   "outputs": [
    {
     "data": {
      "text/plain": [
       "2.0858640356498003e-11"
      ]
     },
     "execution_count": 12,
     "metadata": {},
     "output_type": "execute_result"
    }
   ],
   "source": [
    "# ensure the main effects from the SHAP interaction values match those from a linear model\n",
    "dinds = np.diag_indices(shap_interaction_values.shape[1])\n",
    "total = 0\n",
    "for i in range(N):\n",
    "    for j in range(5):\n",
    "        total += np.abs(shap_interaction_values[i,j,j] - main_effect_shap_values[i,j])\n",
    "total"
   ]
  },
  {
   "cell_type": "markdown",
   "metadata": {},
   "source": [
    "## Explain a linear model with one interaction"
   ]
  },
  {
   "cell_type": "code",
   "execution_count": 13,
   "metadata": {},
   "outputs": [],
   "source": [
    "# simulate some binary data and a linear outcome with an interaction term\n",
    "# note we make the features in X perfectly independent of each other to make\n",
    "# it easy to solve for the exact SHAP values\n",
    "N = 2000\n",
    "X = np.zeros((N,5))\n",
    "X[:1000,0] = 1\n",
    "\n",
    "X[:500,1] = 1\n",
    "X[1000:1500,1] = 1\n",
    "\n",
    "X[:250,2] = 1\n",
    "X[500:750,2] = 1\n",
    "X[1000:1250,2] = 1\n",
    "X[1500:1750,2] = 1\n",
    "\n",
    "X[:125,3] = 1\n",
    "X[250:375,3] = 1\n",
    "X[500:625,3] = 1\n",
    "X[750:875,3] = 1\n",
    "X[1000:1125,3] = 1\n",
    "X[1250:1375,3] = 1\n",
    "X[1500:1625,3] = 1\n",
    "X[1750:1875,3] = 1\n",
    "X[:,:4] -= 0.4999 # we can't exactly mean center the data or XGBoost has trouble finding the splits\n",
    "y = 2* X[:,0] - 3 * X[:,1] + 2 * X[:,1] * X[:,2]"
   ]
  },
  {
   "cell_type": "code",
   "execution_count": 14,
   "metadata": {},
   "outputs": [
    {
     "data": {
      "text/plain": [
       "array([1.e-04, 1.e-04, 1.e-04, 1.e-04, 0.e+00])"
      ]
     },
     "execution_count": 14,
     "metadata": {},
     "output_type": "execute_result"
    }
   ],
   "source": [
    "X.mean(0)"
   ]
  },
  {
   "cell_type": "code",
   "execution_count": 15,
   "metadata": {},
   "outputs": [
    {
     "name": "stdout",
     "output_type": "stream",
     "text": [
      "[19:07:46] src/tree/updater_prune.cc:74: tree pruning end, 1 roots, 14 extra nodes, 0 pruned nodes, max_depth=3\n",
      "Model error = 1.7365037830677591e-06\n",
      "0:[f1<0.000100001693] yes=1,no=2,missing=1,gain=4499.40039,cover=2000\n",
      "\t1:[f0<0.000100001693] yes=3,no=4,missing=3,gain=999.999756,cover=1000\n",
      "\t\t3:[f2<0.000100001693] yes=7,no=8,missing=7,gain=124.949997,cover=500\n",
      "\t\t\t7:leaf=0.99970001,cover=250\n",
      "\t\t\t8:leaf=-9.99800031e-005,cover=250\n",
      "\t\t4:[f2<0.000100001693] yes=9,no=10,missing=9,gain=124.949951,cover=500\n",
      "\t\t\t9:leaf=2.99970007,cover=250\n",
      "\t\t\t10:leaf=1.99989998,cover=250\n",
      "\t2:[f0<0.000100001693] yes=5,no=6,missing=5,gain=999.999756,cover=1000\n",
      "\t\t5:[f2<0.000100001693] yes=11,no=12,missing=11,gain=125.050049,cover=500\n",
      "\t\t\t11:leaf=-3.0000999,cover=250\n",
      "\t\t\t12:leaf=-1.99989998,cover=250\n",
      "\t\t6:[f2<0.000100001693] yes=13,no=14,missing=13,gain=125.050018,cover=500\n",
      "\t\t\t13:leaf=-1.00010002,cover=250\n",
      "\t\t\t14:leaf=0.000100019999,cover=250\n",
      "\n"
     ]
    }
   ],
   "source": [
    "# train a model with single tree\n",
    "Xd = xgboost.DMatrix(X, label=y)\n",
    "model = xgboost.train({\n",
    "    'eta':1, 'max_depth':4, 'base_score': 0, \"lambda\": 0\n",
    "}, Xd, 1)\n",
    "print(\"Model error =\", np.linalg.norm(y-model.predict(Xd)))\n",
    "print(model.get_dump(with_stats=True)[0])"
   ]
  },
  {
   "cell_type": "code",
   "execution_count": 16,
   "metadata": {},
   "outputs": [
    {
     "data": {
      "text/plain": [
       "4.7683716e-07"
      ]
     },
     "execution_count": 16,
     "metadata": {},
     "output_type": "execute_result"
    }
   ],
   "source": [
    "# make sure the SHAP values add up to marginal predictions\n",
    "pred = model.predict(Xd, output_margin=True)\n",
    "explainer = shap.TreeExplainer(model)\n",
    "shap_values = explainer.shap_values(Xd)\n",
    "np.abs(shap_values.sum(1) + explainer.expected_value - pred).max()"
   ]
  },
  {
   "cell_type": "markdown",
   "metadata": {},
   "source": [
    "If we build a summary plot we see that now only features 3 and 4 don't matter, and that feature 1 can have four possible effect sizes due to interactions."
   ]
  },
  {
   "cell_type": "code",
   "execution_count": 17,
   "metadata": {},
   "outputs": [
    {
     "data": {
      "image/png": "[encoded data removed]",
      "text/plain": [
       "<Figure size 576x252 with 2 Axes>"
      ]
     },
     "metadata": {
      "needs_background": "light"
     },
     "output_type": "display_data"
    }
   ],
   "source": [
    "shap.summary_plot(shap_values, X)"
   ]
  },
  {
   "cell_type": "code",
   "execution_count": 18,
   "metadata": {},
   "outputs": [
    {
     "data": {
      "text/plain": [
       "array([ 2., -3.,  0.,  0.,  0.])"
      ]
     },
     "execution_count": 18,
     "metadata": {},
     "output_type": "execute_result"
    }
   ],
   "source": [
    "# train a linear model\n",
    "lr = linear_model.LinearRegression()\n",
    "lr.fit(X, y)\n",
    "lr_pred = lr.predict(X)\n",
    "lr.coef_.round(2)"
   ]
  },
  {
   "cell_type": "code",
   "execution_count": 19,
   "metadata": {},
   "outputs": [
    {
     "data": {
      "text/plain": [
       "15.811387829626842"
      ]
     },
     "execution_count": 19,
     "metadata": {},
     "output_type": "execute_result"
    }
   ],
   "source": [
    "# Note that the SHAP values no longer match the main effects because they now include interaction effects\n",
    "main_effect_shap_values = lr.coef_ * (X - X.mean(0))\n",
    "np.linalg.norm(shap_values - main_effect_shap_values)"
   ]
  },
  {
   "cell_type": "markdown",
   "metadata": {},
   "source": [
    "### SHAP interaction values"
   ]
  },
  {
   "cell_type": "code",
   "execution_count": 20,
   "metadata": {},
   "outputs": [
    {
     "data": {
      "text/plain": [
       "array([[ 1.  ,  0.  ,  0.  ,  0.  ,  0.  ],\n",
       "       [ 0.  , -1.5 ,  0.25,  0.  ,  0.  ],\n",
       "       [ 0.  ,  0.25,  0.  ,  0.  ,  0.  ],\n",
       "       [ 0.  ,  0.  ,  0.  ,  0.  ,  0.  ],\n",
       "       [ 0.  ,  0.  ,  0.  ,  0.  ,  0.  ]], dtype=float32)"
      ]
     },
     "execution_count": 20,
     "metadata": {},
     "output_type": "execute_result"
    }
   ],
   "source": [
    "# SHAP interaction contributions:\n",
    "shap_interaction_values = explainer.shap_interaction_values(Xd)\n",
    "shap_interaction_values[0].round(2)"
   ]
  },
  {
   "cell_type": "code",
   "execution_count": 21,
   "metadata": {},
   "outputs": [
    {
     "data": {
      "text/plain": [
       "4.7683716e-07"
      ]
     },
     "execution_count": 21,
     "metadata": {},
     "output_type": "execute_result"
    }
   ],
   "source": [
    "# ensure the SHAP interaction values sum to the marginal predictions\n",
    "np.abs(shap_interaction_values.sum((1,2)) + explainer.expected_value - pred).max()"
   ]
  },
  {
   "cell_type": "code",
   "execution_count": 22,
   "metadata": {},
   "outputs": [
    {
     "data": {
      "text/plain": [
       "0.0005347490465989855"
      ]
     },
     "execution_count": 22,
     "metadata": {},
     "output_type": "execute_result"
    }
   ],
   "source": [
    "# ensure the main effects from the SHAP interaction values match those from a linear model.\n",
    "# while the main effects no longer match the SHAP values when interactions are present, they do match\n",
    "# the main effects on the diagonal of the SHAP interaction value matrix\n",
    "dinds = np.diag_indices(shap_interaction_values.shape[1])\n",
    "total = 0\n",
    "for i in range(N):\n",
    "    for j in range(5):\n",
    "        total += np.abs(shap_interaction_values[i,j,j] - main_effect_shap_values[i,j])\n",
    "total"
   ]
  },
  {
   "cell_type": "markdown",
   "metadata": {},
   "source": [
    "If we build a dependence plot for feature 0 we that it only takes two values and that these values are entirely dependent on the value of the feature (the value of feature 0 entirely determines it's effect because it has no interactions with other features)."
   ]
  },
  {
   "cell_type": "code",
   "execution_count": 23,
   "metadata": {},
   "outputs": [
    {
     "data": {
      "image/png": "[encoded data removed]",
      "text/plain": [
       "<Figure size 540x360 with 2 Axes>"
      ]
     },
     "metadata": {
      "needs_background": "light"
     },
     "output_type": "display_data"
    }
   ],
   "source": [
    "shap.dependence_plot(0, shap_values, X)"
   ]
  },
  {
   "cell_type": "markdown",
   "metadata": {},
   "source": [
    "In contrast if we build a dependence plot for feature 2 we see that it takes 4 possible values and they are not entirely determined by the value of feature 2, instead they also depend on the value of feature 3. This vertical spread in a dependence plot represents the effects of non-linear interactions."
   ]
  },
  {
   "cell_type": "code",
   "execution_count": 24,
   "metadata": {},
   "outputs": [
    {
     "name": "stderr",
     "output_type": "stream",
     "text": [
      "C:\\Users\\KindYAK\\Anaconda3\\envs\\def\\lib\\site-packages\\numpy\\lib\\function_base.py:2530: RuntimeWarning: invalid value encountered in true_divide\n",
      "  c /= stddev[:, None]\n",
      "C:\\Users\\KindYAK\\Anaconda3\\envs\\def\\lib\\site-packages\\numpy\\lib\\function_base.py:2531: RuntimeWarning: invalid value encountered in true_divide\n",
      "  c /= stddev[None, :]\n"
     ]
    },
    {
     "data": {
      "image/png": "[encoded data removed]",
      "text/plain": [
       "<Figure size 540x360 with 1 Axes>"
      ]
     },
     "metadata": {
      "needs_background": "light"
     },
     "output_type": "display_data"
    }
   ],
   "source": [
    "shap.dependence_plot(2, shap_values, X)"
   ]
  },
  {
   "cell_type": "code",
   "execution_count": null,
   "metadata": {},
   "outputs": [],
   "source": []
  },
  {
   "cell_type": "code",
   "execution_count": null,
   "metadata": {},
   "outputs": [],
   "source": []
  },
  {
   "cell_type": "code",
   "execution_count": null,
   "metadata": {},
   "outputs": [],
   "source": []
  }
 ],
 "metadata": {
  "anaconda-cloud": {},
  "kernelspec": {
   "display_name": "Python 3",
   "language": "python",
   "name": "python3"
  },
  "language_info": {
   "codemirror_mode": {
    "name": "ipython",
    "version": 3
   },
   "file_extension": ".py",
   "mimetype": "text/x-python",
   "name": "python",
   "nbconvert_exporter": "python",
   "pygments_lexer": "ipython3",
   "version": "3.6.7"
  }
 },
 "nbformat": 4,
 "nbformat_minor": 1
}
