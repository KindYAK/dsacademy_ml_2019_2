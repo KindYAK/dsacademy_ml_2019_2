{
 "cells": [
  {
   "cell_type": "markdown",
   "metadata": {},
   "source": [
    "# Getting started with Word2Vec in Gensim and making it work!\n",
    "\n",
    "The idea behind Word2Vec is pretty simple. We are making and assumption that you can tell the meaning of a word by the company it keeps. This is analogous to the saying *show me your friends, and I'll tell who you are*. So if you have two words that have very similar neighbors (i.e. the usage context is about the same), then these words are probably quite similar in meaning or are at least highly related. For example, the words `shocked`,`appalled` and `astonished` are typically used in a similar context. \n",
    "\n",
    "In this tutorial, you will learn how to use the Gensim implementation of Word2Vec and actually get it to work! I have heard a lot of complaints about poor performance etc, but its really a combination of two things, (1) your input data and (2) your parameter settings. Note that the training algorithms in this package were ported from the [original Word2Vec implementation by Google](https://arxiv.org/pdf/1301.3781.pdf) and extended with additional functionality."
   ]
  },
  {
   "cell_type": "markdown",
   "metadata": {},
   "source": [
    "### Imports and logging\n",
    "\n",
    "First, we start with our imports and get logging established:"
   ]
  },
  {
   "cell_type": "code",
   "execution_count": 1,
   "metadata": {},
   "outputs": [],
   "source": [
    "# imports needed and set up logging\n",
    "import gzip\n",
    "import gensim \n",
    "import logging\n",
    "\n",
    "logging.basicConfig(format='%(asctime)s : %(levelname)s : %(message)s', level=logging.INFO)\n"
   ]
  },
  {
   "cell_type": "markdown",
   "metadata": {},
   "source": [
    "### Dataset \n",
    "Next, is our dataset. The secret to getting Word2Vec really working for you is to have lots and lots of text data. In this case I am going to use data from the [OpinRank](http://kavita-ganesan.com/entity-ranking-data/) dataset. This dataset has full user reviews of cars and hotels. I have specifically concatenated all of the hotel reviews into one big file which is about 97MB compressed and 229MB uncompressed. We will use the compressed file for this tutorial. Each line in this file represents a hotel review. You can download the OpinRank Word2Vec dataset here.\n",
    "\n",
    "To avoid confusion, while gensim’s word2vec tutorial says that you need to pass it a sequence of sentences as its input, you can always pass it a whole review as a sentence (i.e. a much larger size of text), and it should not make much of a difference. \n",
    "\n",
    "Now, let's take a closer look at this data below by printing the first line. You can see that this is a pretty hefty review."
   ]
  },
  {
   "cell_type": "code",
   "execution_count": 2,
   "metadata": {},
   "outputs": [
    {
     "name": "stdout",
     "output_type": "stream",
     "text": [
      "b\"Oct 12 2009 \\tNice trendy hotel location not too bad.\\tI stayed in this hotel for one night. As this is a fairly new place some of the taxi drivers did not know where it was and/or did not want to drive there. Once I have eventually arrived at the hotel, I was very pleasantly surprised with the decor of the lobby/ground floor area. It was very stylish and modern. I found the reception's staff geeting me with 'Aloha' a bit out of place, but I guess they are briefed to say that to keep up the coroporate image.As I have a Starwood Preferred Guest member, I was given a small gift upon-check in. It was only a couple of fridge magnets in a gift box, but nevertheless a nice gesture.My room was nice and roomy, there are tea and coffee facilities in each room and you get two complimentary bottles of water plus some toiletries by 'bliss'.The location is not great. It is at the last metro stop and you then need to take a taxi, but if you are not planning on going to see the historic sites in Beijing, then you will be ok.I chose to have some breakfast in the hotel, which was really tasty and there was a good selection of dishes. There are a couple of computers to use in the communal area, as well as a pool table. There is also a small swimming pool and a gym area.I would definitely stay in this hotel again, but only if I did not plan to travel to central Beijing, as it can take a long time. The location is ok if you plan to do a lot of shopping, as there is a big shopping centre just few minutes away from the hotel and there are plenty of eating options around, including restaurants that serve a dog meat!\\t\\r\\n\"\n"
     ]
    }
   ],
   "source": [
    "data_file=\"reviews_data.txt.gz\"\n",
    "\n",
    "with gzip.open ('reviews_data.txt.gz', 'rb') as f:\n",
    "    for i,line in enumerate (f):\n",
    "        print(line)\n",
    "        break\n"
   ]
  },
  {
   "cell_type": "markdown",
   "metadata": {},
   "source": [
    "### Read files into a list\n",
    "Now that we've had a sneak peak of our dataset, we can read it into a list so that we can pass this on to the Word2Vec model. Notice in the code below, that I am directly reading the \n",
    "compressed file. I'm also doing a mild pre-processing of the reviews using `gensim.utils.simple_preprocess (line)`. This does some basic pre-processing such as tokenization, lowercasing, etc and returns back a list of tokens (words). Documentation of this pre-processing method can be found on the official [Gensim documentation site](https://radimrehurek.com/gensim/utils.html). \n",
    "\n"
   ]
  },
  {
   "cell_type": "code",
   "execution_count": 3,
   "metadata": {},
   "outputs": [
    {
     "name": "stderr",
     "output_type": "stream",
     "text": [
      "2019-07-07 17:49:13,155 : INFO : reading file reviews_data.txt.gz...this may take a while\n",
      "2019-07-07 17:49:13,157 : INFO : read 0 reviews\n",
      "2019-07-07 17:49:15,650 : INFO : read 10000 reviews\n",
      "2019-07-07 17:49:18,297 : INFO : read 20000 reviews\n",
      "2019-07-07 17:49:21,120 : INFO : read 30000 reviews\n",
      "2019-07-07 17:49:23,805 : INFO : read 40000 reviews\n",
      "2019-07-07 17:49:26,830 : INFO : read 50000 reviews\n",
      "2019-07-07 17:49:29,636 : INFO : read 60000 reviews\n",
      "2019-07-07 17:49:32,304 : INFO : read 70000 reviews\n",
      "2019-07-07 17:49:34,642 : INFO : read 80000 reviews\n",
      "2019-07-07 17:49:37,151 : INFO : read 90000 reviews\n",
      "2019-07-07 17:49:39,672 : INFO : read 100000 reviews\n",
      "2019-07-07 17:49:42,070 : INFO : read 110000 reviews\n",
      "2019-07-07 17:49:44,361 : INFO : read 120000 reviews\n",
      "2019-07-07 17:49:46,988 : INFO : read 130000 reviews\n",
      "2019-07-07 17:49:49,629 : INFO : read 140000 reviews\n",
      "2019-07-07 17:49:52,398 : INFO : read 150000 reviews\n",
      "2019-07-07 17:49:54,816 : INFO : read 160000 reviews\n",
      "2019-07-07 17:49:57,119 : INFO : read 170000 reviews\n",
      "2019-07-07 17:49:59,548 : INFO : read 180000 reviews\n",
      "2019-07-07 17:50:01,807 : INFO : read 190000 reviews\n",
      "2019-07-07 17:50:04,364 : INFO : read 200000 reviews\n",
      "2019-07-07 17:50:06,781 : INFO : read 210000 reviews\n",
      "2019-07-07 17:50:09,233 : INFO : read 220000 reviews\n",
      "2019-07-07 17:50:11,346 : INFO : read 230000 reviews\n",
      "2019-07-07 17:50:14,511 : INFO : read 240000 reviews\n",
      "2019-07-07 17:50:16,694 : INFO : read 250000 reviews\n",
      "2019-07-07 17:50:17,875 : INFO : Done reading data file\n"
     ]
    }
   ],
   "source": [
    "\n",
    "def read_input(input_file):\n",
    "    \"\"\"This method reads the input file which is in gzip format\"\"\"\n",
    "    \n",
    "    logging.info(\"reading file {0}...this may take a while\".format(input_file))\n",
    "    \n",
    "    with gzip.open (input_file, 'rb') as f:\n",
    "        for i, line in enumerate (f): \n",
    "\n",
    "            if (i%10000==0):\n",
    "                logging.info (\"read {0} reviews\".format (i))\n",
    "            # do some pre-processing and return a list of words for each review text\n",
    "            yield gensim.utils.simple_preprocess (line)\n",
    "\n",
    "# read the tokenized reviews into a list\n",
    "# each review item becomes a serries of words\n",
    "# so this becomes a list of lists\n",
    "documents = list (read_input (data_file))\n",
    "logging.info (\"Done reading data file\")    "
   ]
  },
  {
   "cell_type": "markdown",
   "metadata": {},
   "source": [
    "## Training the Word2Vec model\n",
    "\n",
    "Training the model is fairly straightforward. You just instantiate Word2Vec and pass the reviews that we read in the previous step (the `documents`). So, we are essentially passing on a list of lists. Where each list within the main list contains a set of tokens from a user review. Word2Vec uses all these tokens to internally create a vocabulary. And by vocabulary, I mean a set of unique words.\n",
    "\n",
    "After building the vocabulary, we just need to call `train(...)` to start training the Word2Vec model. Training on the [OpinRank](http://kavita-ganesan.com/entity-ranking-data/) dataset takes about 10 minutes so please be patient while running your code on this dataset.\n",
    "\n",
    "Behind the scenes we are actually training a simple neural network with a single hidden layer. But, we are actually not going to use the neural network after training. Instead, the goal is to learn the weights of the hidden layer. These weights are essentially the word vectors that we’re trying to learn. "
   ]
  },
  {
   "cell_type": "code",
   "execution_count": null,
   "metadata": {},
   "outputs": [
    {
     "name": "stderr",
     "output_type": "stream",
     "text": [
      "2019-07-07 17:50:17,883 : WARNING : consider setting layer size to a multiple of 4 for greater performance\n",
      "2019-07-07 17:50:17,884 : INFO : collecting all words and their counts\n",
      "2019-07-07 17:50:17,884 : INFO : PROGRESS: at sentence #0, processed 0 words, keeping 0 word types\n",
      "2019-07-07 17:50:18,188 : INFO : PROGRESS: at sentence #10000, processed 1655714 words, keeping 25777 word types\n",
      "2019-07-07 17:50:18,481 : INFO : PROGRESS: at sentence #20000, processed 3317863 words, keeping 35016 word types\n",
      "2019-07-07 17:50:18,813 : INFO : PROGRESS: at sentence #30000, processed 5264072 words, keeping 47518 word types\n",
      "2019-07-07 17:50:19,126 : INFO : PROGRESS: at sentence #40000, processed 7081746 words, keeping 56675 word types\n",
      "2019-07-07 17:50:19,526 : INFO : PROGRESS: at sentence #50000, processed 9089491 words, keeping 63744 word types\n",
      "2019-07-07 17:50:19,855 : INFO : PROGRESS: at sentence #60000, processed 11013723 words, keeping 76781 word types\n",
      "2019-07-07 17:50:20,172 : INFO : PROGRESS: at sentence #70000, processed 12637525 words, keeping 83194 word types\n",
      "2019-07-07 17:50:20,460 : INFO : PROGRESS: at sentence #80000, processed 14099751 words, keeping 88454 word types\n",
      "2019-07-07 17:50:20,791 : INFO : PROGRESS: at sentence #90000, processed 15662149 words, keeping 93352 word types\n",
      "2019-07-07 17:50:21,135 : INFO : PROGRESS: at sentence #100000, processed 17164487 words, keeping 97881 word types\n",
      "2019-07-07 17:50:21,486 : INFO : PROGRESS: at sentence #110000, processed 18652292 words, keeping 102127 word types\n",
      "2019-07-07 17:50:21,767 : INFO : PROGRESS: at sentence #120000, processed 20152529 words, keeping 105918 word types\n",
      "2019-07-07 17:50:22,029 : INFO : PROGRESS: at sentence #130000, processed 21684330 words, keeping 110099 word types\n",
      "2019-07-07 17:50:22,304 : INFO : PROGRESS: at sentence #140000, processed 23330206 words, keeping 114103 word types\n",
      "2019-07-07 17:50:22,561 : INFO : PROGRESS: at sentence #150000, processed 24838754 words, keeping 118169 word types\n",
      "2019-07-07 17:50:22,845 : INFO : PROGRESS: at sentence #160000, processed 26390910 words, keeping 118665 word types\n",
      "2019-07-07 17:50:23,141 : INFO : PROGRESS: at sentence #170000, processed 27913916 words, keeping 123350 word types\n",
      "2019-07-07 17:50:23,429 : INFO : PROGRESS: at sentence #180000, processed 29535612 words, keeping 126742 word types\n",
      "2019-07-07 17:50:23,816 : INFO : PROGRESS: at sentence #190000, processed 31096459 words, keeping 129841 word types\n",
      "2019-07-07 17:50:24,167 : INFO : PROGRESS: at sentence #200000, processed 32805271 words, keeping 133249 word types\n",
      "2019-07-07 17:50:24,459 : INFO : PROGRESS: at sentence #210000, processed 34434198 words, keeping 136358 word types\n",
      "2019-07-07 17:50:24,838 : INFO : PROGRESS: at sentence #220000, processed 36083482 words, keeping 139412 word types\n",
      "2019-07-07 17:50:25,157 : INFO : PROGRESS: at sentence #230000, processed 37571762 words, keeping 142393 word types\n",
      "2019-07-07 17:50:25,445 : INFO : PROGRESS: at sentence #240000, processed 39138190 words, keeping 145226 word types\n",
      "2019-07-07 17:50:25,713 : INFO : PROGRESS: at sentence #250000, processed 40695049 words, keeping 147960 word types\n",
      "2019-07-07 17:50:25,916 : INFO : collected 150053 word types from a corpus of 41519355 raw words and 255404 sentences\n",
      "2019-07-07 17:50:25,917 : INFO : Loading a fresh vocabulary\n",
      "2019-07-07 17:50:26,703 : INFO : effective_min_count=2 retains 70538 unique words (47% of original 150053, drops 79515)\n",
      "2019-07-07 17:50:26,703 : INFO : effective_min_count=2 leaves 41439840 word corpus (99% of original 41519355, drops 79515)\n",
      "2019-07-07 17:50:26,897 : INFO : deleting the raw counts dictionary of 150053 items\n",
      "2019-07-07 17:50:26,901 : INFO : sample=0.001 downsamples 55 most-common words\n",
      "2019-07-07 17:50:26,902 : INFO : downsampling leaves estimated 30349255 word corpus (73.2% of prior 41439840)\n",
      "2019-07-07 17:50:27,148 : INFO : estimated required memory for 70538 words and 150 dimensions: 119914600 bytes\n",
      "2019-07-07 17:50:27,148 : INFO : resetting layer weights\n",
      "2019-07-07 17:50:28,133 : INFO : training model with 10 workers on 70538 vocabulary and 150 features, using sg=0 hs=0 sample=0.001 negative=5 window=10\n",
      "2019-07-07 17:50:29,161 : INFO : EPOCH 1 - PROGRESS: at 3.51% examples, 1069354 words/s, in_qsize 19, out_qsize 0\n",
      "2019-07-07 17:50:30,165 : INFO : EPOCH 1 - PROGRESS: at 7.33% examples, 1118554 words/s, in_qsize 18, out_qsize 1\n",
      "2019-07-07 17:50:31,173 : INFO : EPOCH 1 - PROGRESS: at 11.38% examples, 1213411 words/s, in_qsize 19, out_qsize 0\n",
      "2019-07-07 17:50:32,176 : INFO : EPOCH 1 - PROGRESS: at 14.70% examples, 1204471 words/s, in_qsize 19, out_qsize 0\n",
      "2019-07-07 17:50:33,188 : INFO : EPOCH 1 - PROGRESS: at 18.30% examples, 1220278 words/s, in_qsize 20, out_qsize 2\n",
      "2019-07-07 17:50:34,188 : INFO : EPOCH 1 - PROGRESS: at 21.87% examples, 1227753 words/s, in_qsize 19, out_qsize 0\n",
      "2019-07-07 17:50:35,189 : INFO : EPOCH 1 - PROGRESS: at 25.96% examples, 1255613 words/s, in_qsize 16, out_qsize 3\n",
      "2019-07-07 17:50:36,200 : INFO : EPOCH 1 - PROGRESS: at 31.24% examples, 1276291 words/s, in_qsize 18, out_qsize 1\n",
      "2019-07-07 17:50:37,205 : INFO : EPOCH 1 - PROGRESS: at 36.12% examples, 1290363 words/s, in_qsize 19, out_qsize 0\n",
      "2019-07-07 17:50:38,214 : INFO : EPOCH 1 - PROGRESS: at 41.06% examples, 1299009 words/s, in_qsize 19, out_qsize 0\n",
      "2019-07-07 17:50:39,226 : INFO : EPOCH 1 - PROGRESS: at 46.16% examples, 1305869 words/s, in_qsize 18, out_qsize 1\n",
      "2019-07-07 17:50:40,244 : INFO : EPOCH 1 - PROGRESS: at 51.10% examples, 1315150 words/s, in_qsize 18, out_qsize 1\n",
      "2019-07-07 17:50:41,245 : INFO : EPOCH 1 - PROGRESS: at 54.79% examples, 1300980 words/s, in_qsize 17, out_qsize 2\n",
      "2019-07-07 17:50:42,251 : INFO : EPOCH 1 - PROGRESS: at 59.41% examples, 1300846 words/s, in_qsize 19, out_qsize 0\n",
      "2019-07-07 17:50:43,257 : INFO : EPOCH 1 - PROGRESS: at 62.80% examples, 1279483 words/s, in_qsize 19, out_qsize 0\n",
      "2019-07-07 17:50:44,266 : INFO : EPOCH 1 - PROGRESS: at 66.97% examples, 1273406 words/s, in_qsize 19, out_qsize 0\n",
      "2019-07-07 17:50:45,271 : INFO : EPOCH 1 - PROGRESS: at 71.47% examples, 1278160 words/s, in_qsize 19, out_qsize 0\n",
      "2019-07-07 17:50:46,275 : INFO : EPOCH 1 - PROGRESS: at 75.99% examples, 1281776 words/s, in_qsize 19, out_qsize 0\n",
      "2019-07-07 17:50:47,276 : INFO : EPOCH 1 - PROGRESS: at 80.45% examples, 1287619 words/s, in_qsize 19, out_qsize 0\n",
      "2019-07-07 17:50:48,289 : INFO : EPOCH 1 - PROGRESS: at 83.64% examples, 1270738 words/s, in_qsize 19, out_qsize 0\n",
      "2019-07-07 17:50:49,393 : INFO : EPOCH 1 - PROGRESS: at 84.53% examples, 1218244 words/s, in_qsize 19, out_qsize 0\n",
      "2019-07-07 17:50:50,457 : INFO : EPOCH 1 - PROGRESS: at 85.14% examples, 1168834 words/s, in_qsize 16, out_qsize 3\n",
      "2019-07-07 17:50:51,461 : INFO : EPOCH 1 - PROGRESS: at 85.77% examples, 1126520 words/s, in_qsize 20, out_qsize 2\n",
      "2019-07-07 17:50:52,468 : INFO : EPOCH 1 - PROGRESS: at 86.56% examples, 1088780 words/s, in_qsize 19, out_qsize 0\n",
      "2019-07-07 17:50:53,479 : INFO : EPOCH 1 - PROGRESS: at 87.18% examples, 1052180 words/s, in_qsize 17, out_qsize 2\n",
      "2019-07-07 17:50:54,530 : INFO : EPOCH 1 - PROGRESS: at 88.27% examples, 1021735 words/s, in_qsize 19, out_qsize 0\n",
      "2019-07-07 17:50:55,560 : INFO : EPOCH 1 - PROGRESS: at 89.45% examples, 995496 words/s, in_qsize 20, out_qsize 0\n"
     ]
    }
   ],
   "source": [
    "model = gensim.models.Word2Vec (documents, size=150, window=10, min_count=2, workers=10)\n",
    "model.train(documents,total_examples=len(documents),epochs=10)"
   ]
  },
  {
   "cell_type": "markdown",
   "metadata": {},
   "source": [
    "## Now, let's look at some output \n",
    "This first example shows a simple case of looking up words similar to the word `dirty`. All we need to do here is to call the `most_similar` function and provide the word `dirty` as the positive example. This returns the top 10 similar words. "
   ]
  },
  {
   "cell_type": "code",
   "execution_count": null,
   "metadata": {},
   "outputs": [],
   "source": [
    "\n",
    "w1 = \"dirty\"\n",
    "model.wv.most_similar (positive=w1)\n"
   ]
  },
  {
   "cell_type": "markdown",
   "metadata": {},
   "source": [
    "That looks pretty good, right? Let's look at a few more. Let's look at similarity for `polite`, `france` and `shocked`. "
   ]
  },
  {
   "cell_type": "code",
   "execution_count": null,
   "metadata": {},
   "outputs": [],
   "source": [
    "# look up top 6 words similar to 'polite'\n",
    "w1 = [\"polite\"]\n",
    "model.wv.most_similar (positive=w1,topn=6)\n"
   ]
  },
  {
   "cell_type": "code",
   "execution_count": null,
   "metadata": {},
   "outputs": [],
   "source": [
    "# look up top 6 words similar to 'france'\n",
    "w1 = [\"france\"]\n",
    "model.wv.most_similar (positive=w1,topn=6)\n"
   ]
  },
  {
   "cell_type": "code",
   "execution_count": null,
   "metadata": {},
   "outputs": [],
   "source": [
    "# look up top 6 words similar to 'shocked'\n",
    "w1 = [\"shocked\"]\n",
    "model.wv.most_similar (positive=w1,topn=6)\n"
   ]
  },
  {
   "cell_type": "markdown",
   "metadata": {},
   "source": [
    "That's, nice. You can even specify several positive examples to get things that are related in the provided context and provide negative examples to say what should not be considered as related. In the example below we are asking for all items that *relate to bed* only:"
   ]
  },
  {
   "cell_type": "code",
   "execution_count": null,
   "metadata": {},
   "outputs": [],
   "source": [
    "# get everything related to stuff on the bed\n",
    "w1 = [\"bed\",'sheet','pillow']\n",
    "w2 = ['couch']\n",
    "model.wv.most_similar (positive=w1,negative=w2,topn=10)\n"
   ]
  },
  {
   "cell_type": "markdown",
   "metadata": {},
   "source": [
    "### Similarity between two words in the vocabulary"
   ]
  },
  {
   "cell_type": "markdown",
   "metadata": {},
   "source": [
    "You can even use the Word2Vec model to return the similarity between two words that are present in the vocabulary. "
   ]
  },
  {
   "cell_type": "code",
   "execution_count": null,
   "metadata": {},
   "outputs": [],
   "source": [
    "# similarity between two different words\n",
    "model.wv.similarity(w1=\"dirty\",w2=\"smelly\")"
   ]
  },
  {
   "cell_type": "code",
   "execution_count": null,
   "metadata": {},
   "outputs": [],
   "source": [
    "# similarity between two identical words\n",
    "model.wv.similarity(w1=\"dirty\",w2=\"dirty\")"
   ]
  },
  {
   "cell_type": "code",
   "execution_count": null,
   "metadata": {},
   "outputs": [],
   "source": [
    "# similarity between two unrelated words\n",
    "model.wv.similarity(w1=\"dirty\",w2=\"clean\")"
   ]
  },
  {
   "cell_type": "markdown",
   "metadata": {},
   "source": [
    "Under the hood, the above three snippets computes the cosine similarity between the two specified words using word vectors of each. From the scores, it makes sense that `dirty` is highly similar to `smelly` but `dirty` is dissimilar to `clean`. If you do a similarity between two identical words, the score will be 1.0 as the range of the cosine similarity score will always be between [0.0-1.0]. You can read more about cosine similarity scoring [here](https://en.wikipedia.org/wiki/Cosine_similarity)."
   ]
  },
  {
   "cell_type": "markdown",
   "metadata": {},
   "source": [
    "### Find the odd one out\n",
    "You can even use Word2Vec to find odd items given a list of items."
   ]
  },
  {
   "cell_type": "code",
   "execution_count": null,
   "metadata": {},
   "outputs": [],
   "source": [
    "# Which one is the odd one out in this list?\n",
    "model.wv.doesnt_match([\"cat\",\"dog\",\"france\"])"
   ]
  },
  {
   "cell_type": "code",
   "execution_count": null,
   "metadata": {},
   "outputs": [],
   "source": [
    "# Which one is the odd one out in this list?\n",
    "model.wv.doesnt_match([\"bed\",\"pillow\",\"duvet\",\"shower\"])\n"
   ]
  },
  {
   "cell_type": "code",
   "execution_count": null,
   "metadata": {},
   "outputs": [],
   "source": []
  },
  {
   "cell_type": "code",
   "execution_count": null,
   "metadata": {},
   "outputs": [],
   "source": []
  },
  {
   "cell_type": "code",
   "execution_count": null,
   "metadata": {},
   "outputs": [],
   "source": []
  },
  {
   "cell_type": "code",
   "execution_count": null,
   "metadata": {},
   "outputs": [],
   "source": []
  },
  {
   "cell_type": "code",
   "execution_count": null,
   "metadata": {},
   "outputs": [],
   "source": []
  }
 ],
 "metadata": {
  "kernelspec": {
   "display_name": "Python 3",
   "language": "python",
   "name": "python3"
  },
  "language_info": {
   "codemirror_mode": {
    "name": "ipython",
    "version": 3
   },
   "file_extension": ".py",
   "mimetype": "text/x-python",
   "name": "python",
   "nbconvert_exporter": "python",
   "pygments_lexer": "ipython3",
   "version": "3.6.7"
  }
 },
 "nbformat": 4,
 "nbformat_minor": 2
}
