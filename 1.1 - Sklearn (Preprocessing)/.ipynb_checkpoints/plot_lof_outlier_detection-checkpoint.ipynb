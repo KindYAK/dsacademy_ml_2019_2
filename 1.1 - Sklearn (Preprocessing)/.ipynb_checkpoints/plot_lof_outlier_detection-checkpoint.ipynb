{
 "cells": [
  {
   "cell_type": "code",
   "execution_count": null,
   "metadata": {},
   "outputs": [],
   "source": [
    "%matplotlib inline"
   ]
  },
  {
   "cell_type": "markdown",
   "metadata": {},
   "source": [
    "\n",
    "=================================================\n",
    "Outlier detection with Local Outlier Factor (LOF)\n",
    "=================================================\n",
    "\n",
    "The Local Outlier Factor (LOF) algorithm is an unsupervised anomaly detection\n",
    "method which computes the local density deviation of a given data point with\n",
    "respect to its neighbors. It considers as outliers the samples that have a\n",
    "substantially lower density than their neighbors. This example shows how to\n",
    "use LOF for outlier detection which is the default use case of this estimator\n",
    "in scikit-learn. Note that when LOF is used for outlier detection it has no\n",
    "predict, decision_function and score_samples methods. See\n",
    "`User Guide <outlier_detection>`: for details on the difference between\n",
    "outlier detection and novelty detection and how to use LOF for novelty\n",
    "detection.\n",
    "\n",
    "The number of neighbors considered (parameter n_neighbors) is typically\n",
    "set 1) greater than the minimum number of samples a cluster has to contain,\n",
    "so that other samples can be local outliers relative to this cluster, and 2)\n",
    "smaller than the maximum number of close by samples that can potentially be\n",
    "local outliers.\n",
    "In practice, such informations are generally not available, and taking\n",
    "n_neighbors=20 appears to work well in general.\n",
    "\n"
   ]
  },
  {
   "cell_type": "code",
   "execution_count": null,
   "metadata": {},
   "outputs": [],
   "source": [
    "import numpy as np\n",
    "import matplotlib.pyplot as plt\n",
    "from sklearn.neighbors import LocalOutlierFactor\n",
    "\n",
    "print(__doc__)\n",
    "\n",
    "np.random.seed(42)\n",
    "\n",
    "# Generate train data\n",
    "X_inliers = 0.3 * np.random.randn(100, 2)\n",
    "X_inliers = np.r_[X_inliers + 2, X_inliers - 2]\n",
    "\n",
    "# Generate some outliers\n",
    "X_outliers = np.random.uniform(low=-4, high=4, size=(20, 2))\n",
    "X = np.r_[X_inliers, X_outliers]\n",
    "\n",
    "n_outliers = len(X_outliers)\n",
    "ground_truth = np.ones(len(X), dtype=int)\n",
    "ground_truth[-n_outliers:] = -1\n",
    "\n",
    "# fit the model for outlier detection (default)\n",
    "clf = LocalOutlierFactor(n_neighbors=20, contamination=0.1)\n",
    "# use fit_predict to compute the predicted labels of the training samples\n",
    "# (when LOF is used for outlier detection, the estimator has no predict,\n",
    "# decision_function and score_samples methods).\n",
    "y_pred = clf.fit_predict(X)\n",
    "n_errors = (y_pred != ground_truth).sum()\n",
    "X_scores = clf.negative_outlier_factor_\n",
    "\n",
    "plt.title(\"Local Outlier Factor (LOF)\")\n",
    "plt.scatter(X[:, 0], X[:, 1], color='k', s=3., label='Data points')\n",
    "# plot circles with radius proportional to the outlier scores\n",
    "radius = (X_scores.max() - X_scores) / (X_scores.max() - X_scores.min())\n",
    "plt.scatter(X[:, 0], X[:, 1], s=1000 * radius, edgecolors='r',\n",
    "            facecolors='none', label='Outlier scores')\n",
    "plt.axis('tight')\n",
    "plt.xlim((-5, 5))\n",
    "plt.ylim((-5, 5))\n",
    "plt.xlabel(\"prediction errors: %d\" % (n_errors))\n",
    "legend = plt.legend(loc='upper left')\n",
    "legend.legendHandles[0]._sizes = [10]\n",
    "legend.legendHandles[1]._sizes = [20]\n",
    "plt.show()"
   ]
  }
 ],
 "metadata": {
  "kernelspec": {
   "display_name": "Python 3",
   "language": "python",
   "name": "python3"
  },
  "language_info": {
   "codemirror_mode": {
    "name": "ipython",
    "version": 3
   },
   "file_extension": ".py",
   "mimetype": "text/x-python",
   "name": "python",
   "nbconvert_exporter": "python",
   "pygments_lexer": "ipython3",
   "version": "3.6.7"
  }
 },
 "nbformat": 4,
 "nbformat_minor": 1
}
